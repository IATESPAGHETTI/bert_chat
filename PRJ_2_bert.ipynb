{
 "cells": [
  {
   "cell_type": "code",
   "execution_count": 1,
   "id": "439bf6c1-4430-49c4-b384-d4a48af53363",
   "metadata": {},
   "outputs": [],
   "source": [
    "import pandas as pd\n",
    "from sklearn.model_selection import train_test_split\n",
    "from transformers import BertTokenizer\n",
    "\n",
    "# Load your dataset\n",
    "df = pd.read_csv(\"dataset.csv\")\n",
    "\n",
    "# Binary label: -1 (bully) => 1, else => 0\n",
    "df['binary_label'] = df['label'].apply(lambda x: 1 if x == -1 else 0)\n",
    "\n",
    "# Split into training and validation sets\n",
    "train_texts, val_texts, train_labels, val_labels = train_test_split(\n",
    "    df['headline'].tolist(),\n",
    "    df['binary_label'].tolist(),\n",
    "    test_size=0.1,\n",
    "    random_state=42\n",
    ")\n",
    "\n",
    "# Load BERT tokenizer\n",
    "tokenizer = BertTokenizer.from_pretrained('bert-base-uncased')\n",
    "\n",
    "# Tokenize the text\n",
    "train_encodings = tokenizer(train_texts, truncation=True, padding=True, max_length=128)\n",
    "val_encodings = tokenizer(val_texts, truncation=True, padding=True, max_length=128)\n"
   ]
  },
  {
   "cell_type": "markdown",
   "id": "680407be-fbda-46ff-9fb4-78e409466ee1",
   "metadata": {},
   "source": [
    "step 1 dataset class "
   ]
  },
  {
   "cell_type": "code",
   "execution_count": 2,
   "id": "0f10e4e4-ece1-4645-b1e5-8aa85aa30e06",
   "metadata": {},
   "outputs": [],
   "source": [
    "import torch\n",
    "\n",
    "class BullyDataset(torch.utils.data.Dataset):\n",
    "    def __init__(self, encodings, labels):\n",
    "        self.encodings = encodings\n",
    "        self.labels = labels\n",
    "    \n",
    "    def __len__(self):\n",
    "        return len(self.labels)\n",
    "    \n",
    "    def __getitem__(self, idx):\n",
    "        item = {key: torch.tensor(val[idx]) for key, val in self.encodings.items()}\n",
    "        item['labels'] = torch.tensor(self.labels[idx])\n",
    "        return item\n",
    "\n",
    "# Wrap the encodings and labels\n",
    "train_dataset = BullyDataset(train_encodings, train_labels)\n",
    "val_dataset = BullyDataset(val_encodings, val_labels)\n"
   ]
  },
  {
   "cell_type": "markdown",
   "id": "d43dcb3f-a062-40d4-b07d-43960eac679f",
   "metadata": {},
   "source": [
    "define and train bert"
   ]
  },
  {
   "cell_type": "code",
   "execution_count": 6,
   "id": "a132e463-4728-440e-9e53-a5a4ab97ce76",
   "metadata": {},
   "outputs": [
    {
     "name": "stdout",
     "output_type": "stream",
     "text": [
      "CUDA available: False\n",
      "GPU name: No GPU\n"
     ]
    }
   ],
   "source": [
    "import torch\n",
    "print(\"CUDA available:\", torch.cuda.is_available())\n",
    "print(\"GPU name:\", torch.cuda.get_device_name(0) if torch.cuda.is_available() else \"No GPU\")\n"
   ]
  },
  {
   "cell_type": "markdown",
   "id": "37c13d05-9ec5-4b3d-bc83-b09ae328423d",
   "metadata": {},
   "source": [
    "save"
   ]
  },
  {
   "cell_type": "code",
   "execution_count": null,
   "id": "4ed70cf9-03a7-456d-a092-75fe0e869617",
   "metadata": {},
   "outputs": [],
   "source": [
    "model.save_pretrained(\"./bert-bully-model\")\n",
    "tokenizer.save_pretrained(\"./bert-bully-model\")\n"
   ]
  }
 ],
 "metadata": {
  "kernelspec": {
   "display_name": "Python 3 (ipykernel)",
   "language": "python",
   "name": "python3"
  },
  "language_info": {
   "codemirror_mode": {
    "name": "ipython",
    "version": 3
   },
   "file_extension": ".py",
   "mimetype": "text/x-python",
   "name": "python",
   "nbconvert_exporter": "python",
   "pygments_lexer": "ipython3",
   "version": "3.12.6"
  }
 },
 "nbformat": 4,
 "nbformat_minor": 5
}
